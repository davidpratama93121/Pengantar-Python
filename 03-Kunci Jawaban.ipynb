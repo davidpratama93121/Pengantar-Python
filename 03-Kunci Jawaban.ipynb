{
 "cells": [
  {
   "cell_type": "markdown",
   "metadata": {},
   "source": [
    "___\n",
    "\n",
    "# Kunci Jawaban Pengantar Latihan Python \n",
    "\n",
    "Jadikan kunci jawaban ini untuk menguji kemampuan kalian!"
   ]
  },
  {
   "cell_type": "markdown",
   "metadata": {},
   "source": [
    "## Latihan\n",
    "\n",
    "Jawablah pertanyaan atau lengkapi code yang ada, gunakan metode yang spesifik."
   ]
  },
  {
   "cell_type": "markdown",
   "metadata": {},
   "source": [
    "** Berapa nilai dari 7 ppangkat 4?**"
   ]
  },
  {
   "cell_type": "code",
   "execution_count": 1,
   "metadata": {},
   "outputs": [
    {
     "data": {
      "text/plain": [
       "2401"
      ]
     },
     "execution_count": 1,
     "metadata": {},
     "output_type": "execute_result"
    }
   ],
   "source": [
    "7**4"
   ]
  },
  {
   "cell_type": "markdown",
   "metadata": {},
   "source": [
    "** Split string berikut:**\n",
    "\n",
    "    s = \"Halo, namaku Arif!\"\n",
    "    \n",
    "**kedalam sebuah list. **"
   ]
  },
  {
   "cell_type": "code",
   "execution_count": 2,
   "metadata": {},
   "outputs": [
    {
     "data": {
      "text/plain": [
       "['Halo,', 'namaku', 'Arif!']"
      ]
     },
     "execution_count": 2,
     "metadata": {},
     "output_type": "execute_result"
    }
   ],
   "source": [
    "s='Halo, namaku Arif!'\n",
    "s.split()\n"
   ]
  },
  {
   "cell_type": "markdown",
   "metadata": {},
   "source": [
    "** Diberikan variabel berikut:**\n",
    "\n",
    "    planet = \"Bumi\"\n",
    "    diameter = 12742\n",
    "\n",
    "** Gunakan .format() untuk menghasilkan string berikut: **\n",
    "\n",
    "    Panjang diameter bumi adalah 12742 kilometer."
   ]
  },
  {
   "cell_type": "code",
   "execution_count": 3,
   "metadata": {},
   "outputs": [],
   "source": [
    "planet = \"Bumi\"\n",
    "diameter = 12742"
   ]
  },
  {
   "cell_type": "code",
   "execution_count": 4,
   "metadata": {},
   "outputs": [
    {
     "name": "stdout",
     "output_type": "stream",
     "text": [
      "Panjang diameter Bumi adalah 12742 kilometer\n"
     ]
    }
   ],
   "source": [
    "print('Panjang diameter {} adalah {} kilometer'.format('Bumi',12742))"
   ]
  },
  {
   "cell_type": "markdown",
   "metadata": {},
   "source": [
    "** Diberikan sebuah nested list, gunakan indexing untuk mendapatkan kata \"hello\" **"
   ]
  },
  {
   "cell_type": "code",
   "execution_count": 5,
   "metadata": {},
   "outputs": [],
   "source": [
    "lst = [1,2,[3,4],[5,[100,200,['hello']],23,11],1,7]"
   ]
  },
  {
   "cell_type": "code",
   "execution_count": 6,
   "metadata": {},
   "outputs": [
    {
     "data": {
      "text/plain": [
       "'hello'"
      ]
     },
     "execution_count": 6,
     "metadata": {},
     "output_type": "execute_result"
    }
   ],
   "source": [
    "lst[3][1][2][0]"
   ]
  },
  {
   "cell_type": "markdown",
   "metadata": {},
   "source": [
    "** Diberikan nested dictionary, dapatkan kata \"hello\". Hati-hati, ini agak tricky **"
   ]
  },
  {
   "cell_type": "code",
   "execution_count": 7,
   "metadata": {},
   "outputs": [],
   "source": [
    "d = {'k1':[1,2,3,{'tricky':['oh','man','inception',{'target':[1,2,3,'hello']}]}]}"
   ]
  },
  {
   "cell_type": "code",
   "execution_count": 8,
   "metadata": {},
   "outputs": [
    {
     "data": {
      "text/plain": [
       "'hello'"
      ]
     },
     "execution_count": 8,
     "metadata": {},
     "output_type": "execute_result"
    }
   ],
   "source": [
    "d['k1'][3]['tricky'][3]['target'][3]"
   ]
  },
  {
   "cell_type": "markdown",
   "metadata": {},
   "source": [
    "** Apa perbedaan utama antara tuple dan list? **"
   ]
  },
  {
   "cell_type": "code",
   "execution_count": 9,
   "metadata": {},
   "outputs": [],
   "source": [
    "# Tuple itu immutable sedangkan list mutable"
   ]
  },
  {
   "cell_type": "markdown",
   "metadata": {},
   "source": [
    "** Buat sebuah fungsi untuk mendapatkan domain email dari string berikut: **\n",
    "\n",
    "    user@domain.com\n",
    "    "
   ]
  },
  {
   "cell_type": "code",
   "execution_count": 11,
   "metadata": {},
   "outputs": [],
   "source": [
    "def domainGet(email):\n",
    "    return email.split('@')[-1]"
   ]
  },
  {
   "cell_type": "code",
   "execution_count": 12,
   "metadata": {},
   "outputs": [
    {
     "data": {
      "text/plain": [
       "'domain.com'"
      ]
     },
     "execution_count": 12,
     "metadata": {},
     "output_type": "execute_result"
    }
   ],
   "source": [
    "domainGet('user@domain.com')"
   ]
  },
  {
   "cell_type": "markdown",
   "metadata": {},
   "source": [
    "** Buat sebuah fungsi yang menghasilkan return True jika kata kuncing terdapat dalam sebuah kalimat. **"
   ]
  },
  {
   "cell_type": "code",
   "execution_count": 18,
   "metadata": {},
   "outputs": [],
   "source": [
    "def findCat(string):\n",
    "    if 'kucing' in string:\n",
    "        return True"
   ]
  },
  {
   "cell_type": "code",
   "execution_count": 19,
   "metadata": {},
   "outputs": [
    {
     "data": {
      "text/plain": [
       "True"
      ]
     },
     "execution_count": 19,
     "metadata": {},
     "output_type": "execute_result"
    }
   ],
   "source": [
    "findCat('Apa ada kucing disini?')"
   ]
  },
  {
   "cell_type": "markdown",
   "metadata": {},
   "source": [
    "** Buat sebuah fungsi yang menghitung banyaknya kata \"kucing\" yang terjadi dalam sebuah string. **"
   ]
  },
  {
   "cell_type": "code",
   "execution_count": 20,
   "metadata": {},
   "outputs": [],
   "source": [
    "def countCat(string):\n",
    "    x=[]\n",
    "    y=string.split()\n",
    "    \n",
    "    for i in y:\n",
    "        if i=='dog':\n",
    "            x.append(i)\n",
    "    return len(x)\n",
    "        "
   ]
  },
  {
   "cell_type": "code",
   "execution_count": 21,
   "metadata": {},
   "outputs": [
    {
     "data": {
      "text/plain": [
       "2"
      ]
     },
     "execution_count": 21,
     "metadata": {},
     "output_type": "execute_result"
    }
   ],
   "source": [
    "countCat('This dog runs faster than the other dog dude!')"
   ]
  },
  {
   "cell_type": "markdown",
   "metadata": {},
   "source": [
    "** Gunakan ekspresi lambda dan fungsi filter() untuk memfilter kata-kata yang dimulai dengan huruf s. Sebagai contoh:**\n",
    "\n",
    "    seq = ['soup','dog','salad','cat','great']\n",
    "\n",
    "**dapat difilter menjadi:**\n",
    "\n",
    "    ['soup','salad']"
   ]
  },
  {
   "cell_type": "code",
   "execution_count": 22,
   "metadata": {},
   "outputs": [],
   "source": [
    "seq = ['soup','dog','salad','cat','great']"
   ]
  },
  {
   "cell_type": "code",
   "execution_count": 23,
   "metadata": {},
   "outputs": [
    {
     "data": {
      "text/plain": [
       "['soup', 'salad']"
      ]
     },
     "execution_count": 23,
     "metadata": {},
     "output_type": "execute_result"
    }
   ],
   "source": [
    "def f(x):\n",
    "    for i in x:\n",
    "        if i[0]=='s':\n",
    "            return i\n",
    "list(filter(f,seq))"
   ]
  },
  {
   "cell_type": "markdown",
   "metadata": {},
   "source": [
    "### Final Problem\n",
    "**Kejadiannya, kamu mengemudi terlalu cepat dan pak polisi memberhentikanmu. Terdapat tiga kemungkinan, kamu tidak ditilang, ditilang murah, atau ditilang mahal. Jika kecepatanmu kurang dari 60 km/jam, maka kamu tidak ditilang. Jika kecepatanmu antara 61 dan 80 km/jam, maka kamu akan ditilang murah. Jika kecepatanmu lebih dari 80 km/jam, maka kamu akan ditilang mahal. Jika ini hari ulang tahunmu, kamu akan mengemudi 5 km/jam lebih cepat dari biasanya. Coba tuliskan kasus ini dalam bentuk code. **"
   ]
  },
  {
   "cell_type": "code",
   "execution_count": 1,
   "metadata": {},
   "outputs": [],
   "source": [
    "def ditilang(kecepatan, ultah):\n",
    "    if ultah == False:\n",
    "        if kecepatan<=60:\n",
    "            return ('Tidak ditilang')\n",
    "        elif 60<= kecepatan <= 80:\n",
    "            return('Ditilang Murah')\n",
    "        elif kecepatan>80:\n",
    "            return ('Ditilang Mahal')\n",
    "    else:\n",
    "        s=kecepatan+5\n",
    "        if s<=60:\n",
    "            return ('Tidak ditilang')\n",
    "        elif 60<= s <= 80:\n",
    "            return('Ditilang Murah')\n",
    "        elif s>80:\n",
    "            return ('Ditilang Mahal')\n",
    "            "
   ]
  },
  {
   "cell_type": "code",
   "execution_count": 2,
   "metadata": {},
   "outputs": [
    {
     "data": {
      "text/plain": [
       "'Ditilang Mahal'"
      ]
     },
     "execution_count": 2,
     "metadata": {},
     "output_type": "execute_result"
    }
   ],
   "source": [
    "ditilang(81,True)"
   ]
  },
  {
   "cell_type": "code",
   "execution_count": 3,
   "metadata": {},
   "outputs": [
    {
     "data": {
      "text/plain": [
       "'Ditilang Mahal'"
      ]
     },
     "execution_count": 3,
     "metadata": {},
     "output_type": "execute_result"
    }
   ],
   "source": [
    "ditilang(81,False)"
   ]
  },
  {
   "cell_type": "markdown",
   "metadata": {},
   "source": [
    "# Mantaps!"
   ]
  }
 ],
 "metadata": {
  "kernelspec": {
   "display_name": "Python 3",
   "language": "python",
   "name": "python3"
  },
  "language_info": {
   "codemirror_mode": {
    "name": "ipython",
    "version": 3
   },
   "file_extension": ".py",
   "mimetype": "text/x-python",
   "name": "python",
   "nbconvert_exporter": "python",
   "pygments_lexer": "ipython3",
   "version": "3.7.6"
  }
 },
 "nbformat": 4,
 "nbformat_minor": 1
}
